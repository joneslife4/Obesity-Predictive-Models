{
 "cells": [
  {
   "cell_type": "markdown",
   "id": "2ece3a3b-7ac9-4bbb-beed-039aa2974f74",
   "metadata": {},
   "source": [
    "In this notebook we perform analysis on an obesity dataset and build several obesity prediction models"
   ]
  },
  {
   "cell_type": "code",
   "execution_count": 1,
   "id": "6c9750c5-4670-45be-83d0-03037e62bca2",
   "metadata": {
    "tags": []
   },
   "outputs": [],
   "source": [
    "import pandas as pd"
   ]
  },
  {
   "cell_type": "code",
   "execution_count": 2,
   "id": "4404df0b-a199-478a-9766-af0ec4354e5a",
   "metadata": {
    "tags": []
   },
   "outputs": [
    {
     "data": {
      "text/html": [
       "<div>\n",
       "<style scoped>\n",
       "    .dataframe tbody tr th:only-of-type {\n",
       "        vertical-align: middle;\n",
       "    }\n",
       "\n",
       "    .dataframe tbody tr th {\n",
       "        vertical-align: top;\n",
       "    }\n",
       "\n",
       "    .dataframe thead th {\n",
       "        text-align: right;\n",
       "    }\n",
       "</style>\n",
       "<table border=\"1\" class=\"dataframe\">\n",
       "  <thead>\n",
       "    <tr style=\"text-align: right;\">\n",
       "      <th></th>\n",
       "      <th>Gender</th>\n",
       "      <th>Age</th>\n",
       "      <th>Height</th>\n",
       "      <th>Weight</th>\n",
       "      <th>family_history</th>\n",
       "      <th>FAVC</th>\n",
       "      <th>FCVC</th>\n",
       "      <th>NCP</th>\n",
       "      <th>CAEC</th>\n",
       "      <th>SMOKE</th>\n",
       "      <th>CH2O</th>\n",
       "      <th>SCC</th>\n",
       "      <th>FAF</th>\n",
       "      <th>TUE</th>\n",
       "      <th>CALC</th>\n",
       "      <th>MTRANS</th>\n",
       "      <th>Obesity</th>\n",
       "    </tr>\n",
       "  </thead>\n",
       "  <tbody>\n",
       "    <tr>\n",
       "      <th>0</th>\n",
       "      <td>Female</td>\n",
       "      <td>21.0</td>\n",
       "      <td>1.62</td>\n",
       "      <td>64.0</td>\n",
       "      <td>yes</td>\n",
       "      <td>no</td>\n",
       "      <td>2.0</td>\n",
       "      <td>3.0</td>\n",
       "      <td>Sometimes</td>\n",
       "      <td>no</td>\n",
       "      <td>2.0</td>\n",
       "      <td>no</td>\n",
       "      <td>0.0</td>\n",
       "      <td>1.0</td>\n",
       "      <td>no</td>\n",
       "      <td>Public_Transportation</td>\n",
       "      <td>Normal_Weight</td>\n",
       "    </tr>\n",
       "    <tr>\n",
       "      <th>1</th>\n",
       "      <td>Female</td>\n",
       "      <td>21.0</td>\n",
       "      <td>1.52</td>\n",
       "      <td>56.0</td>\n",
       "      <td>yes</td>\n",
       "      <td>no</td>\n",
       "      <td>3.0</td>\n",
       "      <td>3.0</td>\n",
       "      <td>Sometimes</td>\n",
       "      <td>yes</td>\n",
       "      <td>3.0</td>\n",
       "      <td>yes</td>\n",
       "      <td>3.0</td>\n",
       "      <td>0.0</td>\n",
       "      <td>Sometimes</td>\n",
       "      <td>Public_Transportation</td>\n",
       "      <td>Normal_Weight</td>\n",
       "    </tr>\n",
       "    <tr>\n",
       "      <th>2</th>\n",
       "      <td>Male</td>\n",
       "      <td>23.0</td>\n",
       "      <td>1.80</td>\n",
       "      <td>77.0</td>\n",
       "      <td>yes</td>\n",
       "      <td>no</td>\n",
       "      <td>2.0</td>\n",
       "      <td>3.0</td>\n",
       "      <td>Sometimes</td>\n",
       "      <td>no</td>\n",
       "      <td>2.0</td>\n",
       "      <td>no</td>\n",
       "      <td>2.0</td>\n",
       "      <td>1.0</td>\n",
       "      <td>Frequently</td>\n",
       "      <td>Public_Transportation</td>\n",
       "      <td>Normal_Weight</td>\n",
       "    </tr>\n",
       "    <tr>\n",
       "      <th>3</th>\n",
       "      <td>Male</td>\n",
       "      <td>27.0</td>\n",
       "      <td>1.80</td>\n",
       "      <td>87.0</td>\n",
       "      <td>no</td>\n",
       "      <td>no</td>\n",
       "      <td>3.0</td>\n",
       "      <td>3.0</td>\n",
       "      <td>Sometimes</td>\n",
       "      <td>no</td>\n",
       "      <td>2.0</td>\n",
       "      <td>no</td>\n",
       "      <td>2.0</td>\n",
       "      <td>0.0</td>\n",
       "      <td>Frequently</td>\n",
       "      <td>Walking</td>\n",
       "      <td>Overweight_Level_I</td>\n",
       "    </tr>\n",
       "    <tr>\n",
       "      <th>4</th>\n",
       "      <td>Male</td>\n",
       "      <td>22.0</td>\n",
       "      <td>1.78</td>\n",
       "      <td>89.8</td>\n",
       "      <td>no</td>\n",
       "      <td>no</td>\n",
       "      <td>2.0</td>\n",
       "      <td>1.0</td>\n",
       "      <td>Sometimes</td>\n",
       "      <td>no</td>\n",
       "      <td>2.0</td>\n",
       "      <td>no</td>\n",
       "      <td>0.0</td>\n",
       "      <td>0.0</td>\n",
       "      <td>Sometimes</td>\n",
       "      <td>Public_Transportation</td>\n",
       "      <td>Overweight_Level_II</td>\n",
       "    </tr>\n",
       "  </tbody>\n",
       "</table>\n",
       "</div>"
      ],
      "text/plain": [
       "   Gender   Age  Height  Weight family_history FAVC  FCVC  NCP       CAEC  \\\n",
       "0  Female  21.0    1.62    64.0            yes   no   2.0  3.0  Sometimes   \n",
       "1  Female  21.0    1.52    56.0            yes   no   3.0  3.0  Sometimes   \n",
       "2    Male  23.0    1.80    77.0            yes   no   2.0  3.0  Sometimes   \n",
       "3    Male  27.0    1.80    87.0             no   no   3.0  3.0  Sometimes   \n",
       "4    Male  22.0    1.78    89.8             no   no   2.0  1.0  Sometimes   \n",
       "\n",
       "  SMOKE  CH2O  SCC  FAF  TUE        CALC                 MTRANS  \\\n",
       "0    no   2.0   no  0.0  1.0          no  Public_Transportation   \n",
       "1   yes   3.0  yes  3.0  0.0   Sometimes  Public_Transportation   \n",
       "2    no   2.0   no  2.0  1.0  Frequently  Public_Transportation   \n",
       "3    no   2.0   no  2.0  0.0  Frequently                Walking   \n",
       "4    no   2.0   no  0.0  0.0   Sometimes  Public_Transportation   \n",
       "\n",
       "               Obesity  \n",
       "0        Normal_Weight  \n",
       "1        Normal_Weight  \n",
       "2        Normal_Weight  \n",
       "3   Overweight_Level_I  \n",
       "4  Overweight_Level_II  "
      ]
     },
     "execution_count": 2,
     "metadata": {},
     "output_type": "execute_result"
    }
   ],
   "source": [
    "#Importing and previewing the dataset\n",
    "ob = pd.read_csv(r'/Users/mjones/Desktop/Data Sets/Obesity prediction.csv')\n",
    "ob.head()"
   ]
  },
  {
   "cell_type": "code",
   "execution_count": 3,
   "id": "876a3ee2-a13c-425a-a3cb-b491df6192c7",
   "metadata": {
    "tags": []
   },
   "outputs": [],
   "source": [
    "#The models won't work using string values. I use the get_dummies function to convert the binary categories into 0 and 1 values\n",
    "ob = pd.get_dummies(ob, columns=['Gender', 'family_history', 'SMOKE', 'SCC', 'FAVC'])"
   ]
  },
  {
   "cell_type": "code",
   "execution_count": 4,
   "id": "6a30d67b-568a-4036-8963-b8b00ecdf92c",
   "metadata": {
    "tags": []
   },
   "outputs": [
    {
     "data": {
      "text/plain": [
       "Index(['Age', 'Height', 'Weight', 'FCVC', 'NCP', 'CAEC', 'CH2O', 'FAF', 'TUE',\n",
       "       'CALC', 'MTRANS', 'Obesity', 'Gender_Female', 'Gender_Male',\n",
       "       'family_history_no', 'family_history_yes', 'SMOKE_no', 'SMOKE_yes',\n",
       "       'SCC_no', 'SCC_yes', 'FAVC_no', 'FAVC_yes'],\n",
       "      dtype='object')"
      ]
     },
     "execution_count": 4,
     "metadata": {},
     "output_type": "execute_result"
    }
   ],
   "source": [
    "#Checking the newly formed columns\n",
    "ob.columns"
   ]
  },
  {
   "cell_type": "code",
   "execution_count": 5,
   "id": "eefa1cec-37de-46f7-bff7-26230a1ec565",
   "metadata": {
    "tags": []
   },
   "outputs": [],
   "source": [
    "#get_dummies() splits the columns into two. I now drop the additional ones that are no longer necessary\n",
    "ob = ob.drop(columns=['Gender_Male', 'SMOKE_yes', 'family_history_yes', 'SCC_no', 'FAVC_no'])"
   ]
  },
  {
   "cell_type": "code",
   "execution_count": 6,
   "id": "94756de2-91b2-483d-a56e-b7e9fc2d3fca",
   "metadata": {
    "tags": []
   },
   "outputs": [
    {
     "data": {
      "text/html": [
       "<div>\n",
       "<style scoped>\n",
       "    .dataframe tbody tr th:only-of-type {\n",
       "        vertical-align: middle;\n",
       "    }\n",
       "\n",
       "    .dataframe tbody tr th {\n",
       "        vertical-align: top;\n",
       "    }\n",
       "\n",
       "    .dataframe thead th {\n",
       "        text-align: right;\n",
       "    }\n",
       "</style>\n",
       "<table border=\"1\" class=\"dataframe\">\n",
       "  <thead>\n",
       "    <tr style=\"text-align: right;\">\n",
       "      <th></th>\n",
       "      <th>Age</th>\n",
       "      <th>Height</th>\n",
       "      <th>Weight</th>\n",
       "      <th>FCVC</th>\n",
       "      <th>NCP</th>\n",
       "      <th>CAEC</th>\n",
       "      <th>CH2O</th>\n",
       "      <th>FAF</th>\n",
       "      <th>TUE</th>\n",
       "      <th>CALC</th>\n",
       "      <th>MTRANS</th>\n",
       "      <th>Obesity</th>\n",
       "      <th>Gender_Female</th>\n",
       "      <th>family_history_no</th>\n",
       "      <th>SMOKE_no</th>\n",
       "      <th>SCC_yes</th>\n",
       "      <th>FAVC_yes</th>\n",
       "    </tr>\n",
       "  </thead>\n",
       "  <tbody>\n",
       "    <tr>\n",
       "      <th>0</th>\n",
       "      <td>21.0</td>\n",
       "      <td>1.62</td>\n",
       "      <td>64.0</td>\n",
       "      <td>2.0</td>\n",
       "      <td>3.0</td>\n",
       "      <td>Sometimes</td>\n",
       "      <td>2.0</td>\n",
       "      <td>0.0</td>\n",
       "      <td>1.0</td>\n",
       "      <td>no</td>\n",
       "      <td>Public_Transportation</td>\n",
       "      <td>Normal_Weight</td>\n",
       "      <td>1</td>\n",
       "      <td>0</td>\n",
       "      <td>1</td>\n",
       "      <td>0</td>\n",
       "      <td>0</td>\n",
       "    </tr>\n",
       "    <tr>\n",
       "      <th>1</th>\n",
       "      <td>21.0</td>\n",
       "      <td>1.52</td>\n",
       "      <td>56.0</td>\n",
       "      <td>3.0</td>\n",
       "      <td>3.0</td>\n",
       "      <td>Sometimes</td>\n",
       "      <td>3.0</td>\n",
       "      <td>3.0</td>\n",
       "      <td>0.0</td>\n",
       "      <td>Sometimes</td>\n",
       "      <td>Public_Transportation</td>\n",
       "      <td>Normal_Weight</td>\n",
       "      <td>1</td>\n",
       "      <td>0</td>\n",
       "      <td>0</td>\n",
       "      <td>1</td>\n",
       "      <td>0</td>\n",
       "    </tr>\n",
       "    <tr>\n",
       "      <th>2</th>\n",
       "      <td>23.0</td>\n",
       "      <td>1.80</td>\n",
       "      <td>77.0</td>\n",
       "      <td>2.0</td>\n",
       "      <td>3.0</td>\n",
       "      <td>Sometimes</td>\n",
       "      <td>2.0</td>\n",
       "      <td>2.0</td>\n",
       "      <td>1.0</td>\n",
       "      <td>Frequently</td>\n",
       "      <td>Public_Transportation</td>\n",
       "      <td>Normal_Weight</td>\n",
       "      <td>0</td>\n",
       "      <td>0</td>\n",
       "      <td>1</td>\n",
       "      <td>0</td>\n",
       "      <td>0</td>\n",
       "    </tr>\n",
       "    <tr>\n",
       "      <th>3</th>\n",
       "      <td>27.0</td>\n",
       "      <td>1.80</td>\n",
       "      <td>87.0</td>\n",
       "      <td>3.0</td>\n",
       "      <td>3.0</td>\n",
       "      <td>Sometimes</td>\n",
       "      <td>2.0</td>\n",
       "      <td>2.0</td>\n",
       "      <td>0.0</td>\n",
       "      <td>Frequently</td>\n",
       "      <td>Walking</td>\n",
       "      <td>Overweight_Level_I</td>\n",
       "      <td>0</td>\n",
       "      <td>1</td>\n",
       "      <td>1</td>\n",
       "      <td>0</td>\n",
       "      <td>0</td>\n",
       "    </tr>\n",
       "    <tr>\n",
       "      <th>4</th>\n",
       "      <td>22.0</td>\n",
       "      <td>1.78</td>\n",
       "      <td>89.8</td>\n",
       "      <td>2.0</td>\n",
       "      <td>1.0</td>\n",
       "      <td>Sometimes</td>\n",
       "      <td>2.0</td>\n",
       "      <td>0.0</td>\n",
       "      <td>0.0</td>\n",
       "      <td>Sometimes</td>\n",
       "      <td>Public_Transportation</td>\n",
       "      <td>Overweight_Level_II</td>\n",
       "      <td>0</td>\n",
       "      <td>1</td>\n",
       "      <td>1</td>\n",
       "      <td>0</td>\n",
       "      <td>0</td>\n",
       "    </tr>\n",
       "  </tbody>\n",
       "</table>\n",
       "</div>"
      ],
      "text/plain": [
       "    Age  Height  Weight  FCVC  NCP       CAEC  CH2O  FAF  TUE        CALC  \\\n",
       "0  21.0    1.62    64.0   2.0  3.0  Sometimes   2.0  0.0  1.0          no   \n",
       "1  21.0    1.52    56.0   3.0  3.0  Sometimes   3.0  3.0  0.0   Sometimes   \n",
       "2  23.0    1.80    77.0   2.0  3.0  Sometimes   2.0  2.0  1.0  Frequently   \n",
       "3  27.0    1.80    87.0   3.0  3.0  Sometimes   2.0  2.0  0.0  Frequently   \n",
       "4  22.0    1.78    89.8   2.0  1.0  Sometimes   2.0  0.0  0.0   Sometimes   \n",
       "\n",
       "                  MTRANS              Obesity  Gender_Female  \\\n",
       "0  Public_Transportation        Normal_Weight              1   \n",
       "1  Public_Transportation        Normal_Weight              1   \n",
       "2  Public_Transportation        Normal_Weight              0   \n",
       "3                Walking   Overweight_Level_I              0   \n",
       "4  Public_Transportation  Overweight_Level_II              0   \n",
       "\n",
       "   family_history_no  SMOKE_no  SCC_yes  FAVC_yes  \n",
       "0                  0         1        0         0  \n",
       "1                  0         0        1         0  \n",
       "2                  0         1        0         0  \n",
       "3                  1         1        0         0  \n",
       "4                  1         1        0         0  "
      ]
     },
     "execution_count": 6,
     "metadata": {},
     "output_type": "execute_result"
    }
   ],
   "source": [
    "#Previewing the dataset after the transformations\n",
    "ob.head()"
   ]
  },
  {
   "cell_type": "markdown",
   "id": "fe749330-6095-45f6-b94c-2c666caa52ff",
   "metadata": {},
   "source": [
    "Next I need to change the other string columns. Since they have several options, the get_dummies function won't work. I need to explicitly assign new values. I start by using the unique() function to see the values that I will need to change. Then using the map() function to change the values into numeric types"
   ]
  },
  {
   "cell_type": "code",
   "execution_count": 7,
   "id": "75804766-7422-4f65-a5cf-5e0ac3c241cd",
   "metadata": {
    "tags": []
   },
   "outputs": [
    {
     "data": {
      "text/plain": [
       "array(['Sometimes', 'Frequently', 'Always', 'no'], dtype=object)"
      ]
     },
     "execution_count": 7,
     "metadata": {},
     "output_type": "execute_result"
    }
   ],
   "source": [
    "ob['CAEC'].unique()"
   ]
  },
  {
   "cell_type": "code",
   "execution_count": 8,
   "id": "f3b2fdf4-ec05-47c9-96bd-df1d40942e6e",
   "metadata": {
    "tags": []
   },
   "outputs": [
    {
     "data": {
      "text/plain": [
       "array(['no', 'Sometimes', 'Frequently', 'Always'], dtype=object)"
      ]
     },
     "execution_count": 8,
     "metadata": {},
     "output_type": "execute_result"
    }
   ],
   "source": [
    "ob['CALC'].unique()"
   ]
  },
  {
   "cell_type": "code",
   "execution_count": 9,
   "id": "1dbf3005-b606-4852-8ed9-4109f0387b70",
   "metadata": {
    "tags": []
   },
   "outputs": [],
   "source": [
    "ob['CAEC']= ob['CAEC'].map({'Sometimes':1, 'Frequently':2, 'Always':3, 'no':4})"
   ]
  },
  {
   "cell_type": "code",
   "execution_count": 10,
   "id": "75bada77-6c74-4647-ae72-45a24d78021c",
   "metadata": {
    "tags": []
   },
   "outputs": [],
   "source": [
    "ob['CALC']= ob['CALC'].map({'Sometimes':1, 'Frequently':2, 'Always':3, 'no':4})"
   ]
  },
  {
   "cell_type": "code",
   "execution_count": 11,
   "id": "283453ae-9d7d-43b3-a3ec-7f90c2bb9bcb",
   "metadata": {
    "tags": []
   },
   "outputs": [
    {
     "data": {
      "text/plain": [
       "array(['Public_Transportation', 'Walking', 'Automobile', 'Motorbike',\n",
       "       'Bike'], dtype=object)"
      ]
     },
     "execution_count": 11,
     "metadata": {},
     "output_type": "execute_result"
    }
   ],
   "source": [
    "ob['MTRANS'].unique()"
   ]
  },
  {
   "cell_type": "code",
   "execution_count": 12,
   "id": "dcdab276-241b-4fbd-b754-39031d6625d3",
   "metadata": {
    "tags": []
   },
   "outputs": [],
   "source": [
    "ob['MTRANS']= ob['MTRANS'].map({'Public_Transportation':1, 'Walking':2, 'Automobile':3, 'Motorbike':4, 'Bike':5})"
   ]
  },
  {
   "cell_type": "code",
   "execution_count": 13,
   "id": "9fcc0b8f-8706-449f-b8ca-1e84fc3c2cbd",
   "metadata": {
    "tags": []
   },
   "outputs": [],
   "source": [
    "ob['Obesity'] = ob['Obesity'].map({'Normal_Weight':1, 'Overweight_Level_I':2, 'Overweight_Level_II':3, 'Obesity_Type_I':4, 'Obesity_Type_II':5, 'Obesity_Type_III':6, 'Insufficient_Weight':7})"
   ]
  },
  {
   "cell_type": "code",
   "execution_count": 14,
   "id": "1c61ecd0-2f10-41fc-8960-d95ce941998a",
   "metadata": {
    "tags": []
   },
   "outputs": [
    {
     "data": {
      "text/html": [
       "<div>\n",
       "<style scoped>\n",
       "    .dataframe tbody tr th:only-of-type {\n",
       "        vertical-align: middle;\n",
       "    }\n",
       "\n",
       "    .dataframe tbody tr th {\n",
       "        vertical-align: top;\n",
       "    }\n",
       "\n",
       "    .dataframe thead th {\n",
       "        text-align: right;\n",
       "    }\n",
       "</style>\n",
       "<table border=\"1\" class=\"dataframe\">\n",
       "  <thead>\n",
       "    <tr style=\"text-align: right;\">\n",
       "      <th></th>\n",
       "      <th>Age</th>\n",
       "      <th>Height</th>\n",
       "      <th>Weight</th>\n",
       "      <th>FCVC</th>\n",
       "      <th>NCP</th>\n",
       "      <th>CAEC</th>\n",
       "      <th>CH2O</th>\n",
       "      <th>FAF</th>\n",
       "      <th>TUE</th>\n",
       "      <th>CALC</th>\n",
       "      <th>MTRANS</th>\n",
       "      <th>Obesity</th>\n",
       "      <th>Gender_Female</th>\n",
       "      <th>family_history_no</th>\n",
       "      <th>SMOKE_no</th>\n",
       "      <th>SCC_yes</th>\n",
       "      <th>FAVC_yes</th>\n",
       "    </tr>\n",
       "  </thead>\n",
       "  <tbody>\n",
       "    <tr>\n",
       "      <th>0</th>\n",
       "      <td>21.0</td>\n",
       "      <td>1.62</td>\n",
       "      <td>64.0</td>\n",
       "      <td>2.0</td>\n",
       "      <td>3.0</td>\n",
       "      <td>1</td>\n",
       "      <td>2.0</td>\n",
       "      <td>0.0</td>\n",
       "      <td>1.0</td>\n",
       "      <td>4</td>\n",
       "      <td>1</td>\n",
       "      <td>1</td>\n",
       "      <td>1</td>\n",
       "      <td>0</td>\n",
       "      <td>1</td>\n",
       "      <td>0</td>\n",
       "      <td>0</td>\n",
       "    </tr>\n",
       "    <tr>\n",
       "      <th>1</th>\n",
       "      <td>21.0</td>\n",
       "      <td>1.52</td>\n",
       "      <td>56.0</td>\n",
       "      <td>3.0</td>\n",
       "      <td>3.0</td>\n",
       "      <td>1</td>\n",
       "      <td>3.0</td>\n",
       "      <td>3.0</td>\n",
       "      <td>0.0</td>\n",
       "      <td>1</td>\n",
       "      <td>1</td>\n",
       "      <td>1</td>\n",
       "      <td>1</td>\n",
       "      <td>0</td>\n",
       "      <td>0</td>\n",
       "      <td>1</td>\n",
       "      <td>0</td>\n",
       "    </tr>\n",
       "    <tr>\n",
       "      <th>2</th>\n",
       "      <td>23.0</td>\n",
       "      <td>1.80</td>\n",
       "      <td>77.0</td>\n",
       "      <td>2.0</td>\n",
       "      <td>3.0</td>\n",
       "      <td>1</td>\n",
       "      <td>2.0</td>\n",
       "      <td>2.0</td>\n",
       "      <td>1.0</td>\n",
       "      <td>2</td>\n",
       "      <td>1</td>\n",
       "      <td>1</td>\n",
       "      <td>0</td>\n",
       "      <td>0</td>\n",
       "      <td>1</td>\n",
       "      <td>0</td>\n",
       "      <td>0</td>\n",
       "    </tr>\n",
       "    <tr>\n",
       "      <th>3</th>\n",
       "      <td>27.0</td>\n",
       "      <td>1.80</td>\n",
       "      <td>87.0</td>\n",
       "      <td>3.0</td>\n",
       "      <td>3.0</td>\n",
       "      <td>1</td>\n",
       "      <td>2.0</td>\n",
       "      <td>2.0</td>\n",
       "      <td>0.0</td>\n",
       "      <td>2</td>\n",
       "      <td>2</td>\n",
       "      <td>2</td>\n",
       "      <td>0</td>\n",
       "      <td>1</td>\n",
       "      <td>1</td>\n",
       "      <td>0</td>\n",
       "      <td>0</td>\n",
       "    </tr>\n",
       "    <tr>\n",
       "      <th>4</th>\n",
       "      <td>22.0</td>\n",
       "      <td>1.78</td>\n",
       "      <td>89.8</td>\n",
       "      <td>2.0</td>\n",
       "      <td>1.0</td>\n",
       "      <td>1</td>\n",
       "      <td>2.0</td>\n",
       "      <td>0.0</td>\n",
       "      <td>0.0</td>\n",
       "      <td>1</td>\n",
       "      <td>1</td>\n",
       "      <td>3</td>\n",
       "      <td>0</td>\n",
       "      <td>1</td>\n",
       "      <td>1</td>\n",
       "      <td>0</td>\n",
       "      <td>0</td>\n",
       "    </tr>\n",
       "  </tbody>\n",
       "</table>\n",
       "</div>"
      ],
      "text/plain": [
       "    Age  Height  Weight  FCVC  NCP  CAEC  CH2O  FAF  TUE  CALC  MTRANS  \\\n",
       "0  21.0    1.62    64.0   2.0  3.0     1   2.0  0.0  1.0     4       1   \n",
       "1  21.0    1.52    56.0   3.0  3.0     1   3.0  3.0  0.0     1       1   \n",
       "2  23.0    1.80    77.0   2.0  3.0     1   2.0  2.0  1.0     2       1   \n",
       "3  27.0    1.80    87.0   3.0  3.0     1   2.0  2.0  0.0     2       2   \n",
       "4  22.0    1.78    89.8   2.0  1.0     1   2.0  0.0  0.0     1       1   \n",
       "\n",
       "   Obesity  Gender_Female  family_history_no  SMOKE_no  SCC_yes  FAVC_yes  \n",
       "0        1              1                  0         1        0         0  \n",
       "1        1              1                  0         0        1         0  \n",
       "2        1              0                  0         1        0         0  \n",
       "3        2              0                  1         1        0         0  \n",
       "4        3              0                  1         1        0         0  "
      ]
     },
     "execution_count": 14,
     "metadata": {},
     "output_type": "execute_result"
    }
   ],
   "source": [
    "#Previewing the transformed dataset\n",
    "ob.head()"
   ]
  },
  {
   "cell_type": "code",
   "execution_count": 15,
   "id": "a2686a3b-5a1b-40bc-9389-a964127c3cd3",
   "metadata": {
    "tags": []
   },
   "outputs": [],
   "source": [
    "#I want the Obesity (the predictor) column at the end\n",
    "column_to_move = ob.pop('Obesity')\n",
    "ob.insert(16,'Obesity', column_to_move)"
   ]
  },
  {
   "cell_type": "code",
   "execution_count": 16,
   "id": "d8711c0b-2b66-484e-8657-48d37b2441b4",
   "metadata": {
    "tags": []
   },
   "outputs": [
    {
     "data": {
      "text/html": [
       "<div>\n",
       "<style scoped>\n",
       "    .dataframe tbody tr th:only-of-type {\n",
       "        vertical-align: middle;\n",
       "    }\n",
       "\n",
       "    .dataframe tbody tr th {\n",
       "        vertical-align: top;\n",
       "    }\n",
       "\n",
       "    .dataframe thead th {\n",
       "        text-align: right;\n",
       "    }\n",
       "</style>\n",
       "<table border=\"1\" class=\"dataframe\">\n",
       "  <thead>\n",
       "    <tr style=\"text-align: right;\">\n",
       "      <th></th>\n",
       "      <th>Age</th>\n",
       "      <th>Height</th>\n",
       "      <th>Weight</th>\n",
       "      <th>FCVC</th>\n",
       "      <th>NCP</th>\n",
       "      <th>CAEC</th>\n",
       "      <th>CH2O</th>\n",
       "      <th>FAF</th>\n",
       "      <th>TUE</th>\n",
       "      <th>CALC</th>\n",
       "      <th>MTRANS</th>\n",
       "      <th>Gender_Female</th>\n",
       "      <th>family_history_no</th>\n",
       "      <th>SMOKE_no</th>\n",
       "      <th>SCC_yes</th>\n",
       "      <th>FAVC_yes</th>\n",
       "      <th>Obesity</th>\n",
       "    </tr>\n",
       "  </thead>\n",
       "  <tbody>\n",
       "    <tr>\n",
       "      <th>0</th>\n",
       "      <td>21.0</td>\n",
       "      <td>1.62</td>\n",
       "      <td>64.0</td>\n",
       "      <td>2.0</td>\n",
       "      <td>3.0</td>\n",
       "      <td>1</td>\n",
       "      <td>2.0</td>\n",
       "      <td>0.0</td>\n",
       "      <td>1.0</td>\n",
       "      <td>4</td>\n",
       "      <td>1</td>\n",
       "      <td>1</td>\n",
       "      <td>0</td>\n",
       "      <td>1</td>\n",
       "      <td>0</td>\n",
       "      <td>0</td>\n",
       "      <td>1</td>\n",
       "    </tr>\n",
       "    <tr>\n",
       "      <th>1</th>\n",
       "      <td>21.0</td>\n",
       "      <td>1.52</td>\n",
       "      <td>56.0</td>\n",
       "      <td>3.0</td>\n",
       "      <td>3.0</td>\n",
       "      <td>1</td>\n",
       "      <td>3.0</td>\n",
       "      <td>3.0</td>\n",
       "      <td>0.0</td>\n",
       "      <td>1</td>\n",
       "      <td>1</td>\n",
       "      <td>1</td>\n",
       "      <td>0</td>\n",
       "      <td>0</td>\n",
       "      <td>1</td>\n",
       "      <td>0</td>\n",
       "      <td>1</td>\n",
       "    </tr>\n",
       "    <tr>\n",
       "      <th>2</th>\n",
       "      <td>23.0</td>\n",
       "      <td>1.80</td>\n",
       "      <td>77.0</td>\n",
       "      <td>2.0</td>\n",
       "      <td>3.0</td>\n",
       "      <td>1</td>\n",
       "      <td>2.0</td>\n",
       "      <td>2.0</td>\n",
       "      <td>1.0</td>\n",
       "      <td>2</td>\n",
       "      <td>1</td>\n",
       "      <td>0</td>\n",
       "      <td>0</td>\n",
       "      <td>1</td>\n",
       "      <td>0</td>\n",
       "      <td>0</td>\n",
       "      <td>1</td>\n",
       "    </tr>\n",
       "    <tr>\n",
       "      <th>3</th>\n",
       "      <td>27.0</td>\n",
       "      <td>1.80</td>\n",
       "      <td>87.0</td>\n",
       "      <td>3.0</td>\n",
       "      <td>3.0</td>\n",
       "      <td>1</td>\n",
       "      <td>2.0</td>\n",
       "      <td>2.0</td>\n",
       "      <td>0.0</td>\n",
       "      <td>2</td>\n",
       "      <td>2</td>\n",
       "      <td>0</td>\n",
       "      <td>1</td>\n",
       "      <td>1</td>\n",
       "      <td>0</td>\n",
       "      <td>0</td>\n",
       "      <td>2</td>\n",
       "    </tr>\n",
       "    <tr>\n",
       "      <th>4</th>\n",
       "      <td>22.0</td>\n",
       "      <td>1.78</td>\n",
       "      <td>89.8</td>\n",
       "      <td>2.0</td>\n",
       "      <td>1.0</td>\n",
       "      <td>1</td>\n",
       "      <td>2.0</td>\n",
       "      <td>0.0</td>\n",
       "      <td>0.0</td>\n",
       "      <td>1</td>\n",
       "      <td>1</td>\n",
       "      <td>0</td>\n",
       "      <td>1</td>\n",
       "      <td>1</td>\n",
       "      <td>0</td>\n",
       "      <td>0</td>\n",
       "      <td>3</td>\n",
       "    </tr>\n",
       "  </tbody>\n",
       "</table>\n",
       "</div>"
      ],
      "text/plain": [
       "    Age  Height  Weight  FCVC  NCP  CAEC  CH2O  FAF  TUE  CALC  MTRANS  \\\n",
       "0  21.0    1.62    64.0   2.0  3.0     1   2.0  0.0  1.0     4       1   \n",
       "1  21.0    1.52    56.0   3.0  3.0     1   3.0  3.0  0.0     1       1   \n",
       "2  23.0    1.80    77.0   2.0  3.0     1   2.0  2.0  1.0     2       1   \n",
       "3  27.0    1.80    87.0   3.0  3.0     1   2.0  2.0  0.0     2       2   \n",
       "4  22.0    1.78    89.8   2.0  1.0     1   2.0  0.0  0.0     1       1   \n",
       "\n",
       "   Gender_Female  family_history_no  SMOKE_no  SCC_yes  FAVC_yes  Obesity  \n",
       "0              1                  0         1        0         0        1  \n",
       "1              1                  0         0        1         0        1  \n",
       "2              0                  0         1        0         0        1  \n",
       "3              0                  1         1        0         0        2  \n",
       "4              0                  1         1        0         0        3  "
      ]
     },
     "execution_count": 16,
     "metadata": {},
     "output_type": "execute_result"
    }
   ],
   "source": [
    "ob.head()"
   ]
  },
  {
   "cell_type": "code",
   "execution_count": 17,
   "id": "54bcc7dd-1cf6-4300-81d0-92c1494c4187",
   "metadata": {
    "tags": []
   },
   "outputs": [
    {
     "data": {
      "text/plain": [
       "Index(['Age', 'Height', 'Weight', 'FCVC', 'NCP', 'CAEC', 'CH2O', 'FAF', 'TUE',\n",
       "       'CALC', 'MTRANS', 'Gender_Female', 'family_history_no', 'SMOKE_no',\n",
       "       'SCC_yes', 'FAVC_yes', 'Obesity'],\n",
       "      dtype='object')"
      ]
     },
     "execution_count": 17,
     "metadata": {},
     "output_type": "execute_result"
    }
   ],
   "source": [
    "#Previewing the columns in my dataset in preparation to assign the features and the predictor variables\n",
    "ob.columns"
   ]
  },
  {
   "cell_type": "markdown",
   "id": "5d36aa00-397e-4255-920f-e0f00ef11ee8",
   "metadata": {},
   "source": [
    "Next I assign the features and the predictor variables"
   ]
  },
  {
   "cell_type": "code",
   "execution_count": 18,
   "id": "bd5e465d-3ed1-4863-a7e1-7193e2e9d1d3",
   "metadata": {
    "tags": []
   },
   "outputs": [],
   "source": [
    "features = ['Age', 'Height', 'FCVC', 'NCP', 'CAEC', 'CH2O', 'FAF', 'TUE',\n",
    "       'CALC', 'MTRANS', 'Gender_Female', 'family_history_no', 'SMOKE_no',\n",
    "       'SCC_yes', 'FAVC_yes']"
   ]
  },
  {
   "cell_type": "code",
   "execution_count": 19,
   "id": "12470dd4-9cbd-4f9a-b840-ab5cb185c6cf",
   "metadata": {
    "tags": []
   },
   "outputs": [],
   "source": [
    "predictor = ['Obesity']"
   ]
  },
  {
   "cell_type": "code",
   "execution_count": 20,
   "id": "d977e698-68d5-4afb-be2e-27e3be882b2b",
   "metadata": {
    "tags": []
   },
   "outputs": [],
   "source": [
    "X = ob.loc[:, features].values"
   ]
  },
  {
   "cell_type": "code",
   "execution_count": 21,
   "id": "791a5881-3ed6-4394-97de-22f2b1ec60e0",
   "metadata": {
    "tags": []
   },
   "outputs": [],
   "source": [
    "y = ob.loc[:, predictor].values"
   ]
  },
  {
   "cell_type": "markdown",
   "id": "e2d1064c-04d4-41f7-827a-1e952bf65549",
   "metadata": {},
   "source": [
    "Next I import the standardscaler and principal component analysis packages to standardize my features as well as use PCA to minimize the number of features."
   ]
  },
  {
   "cell_type": "code",
   "execution_count": 22,
   "id": "df32466f-f3ea-4fd0-ba03-1a4da4cb666c",
   "metadata": {
    "tags": []
   },
   "outputs": [],
   "source": [
    "from sklearn.preprocessing import StandardScaler\n",
    "from sklearn.decomposition import PCA"
   ]
  },
  {
   "cell_type": "code",
   "execution_count": 23,
   "id": "11a51983-0ade-4a89-ae56-ccd1f2a42678",
   "metadata": {
    "tags": []
   },
   "outputs": [],
   "source": [
    "X = StandardScaler().fit_transform(X)"
   ]
  },
  {
   "cell_type": "markdown",
   "id": "37f38a11-a36d-4748-82aa-980e2b85bb74",
   "metadata": {},
   "source": [
    "I elect to use 9 principal components"
   ]
  },
  {
   "cell_type": "code",
   "execution_count": 24,
   "id": "93fd4e9e-34f6-4b60-931d-a36536c8e60b",
   "metadata": {
    "tags": []
   },
   "outputs": [],
   "source": [
    "pca = PCA(n_components=9)\n",
    "principalComponents = pca.fit_transform(X)\n",
    "principalOb = pd.DataFrame(data=principalComponents, columns = ['pc1', 'pc2', 'pc3', 'pc4', 'pc5', 'pc6', 'pc7', 'pc8', 'pc9'])"
   ]
  },
  {
   "cell_type": "code",
   "execution_count": 25,
   "id": "7b8c4e67-0296-4891-a6f7-ca5577544f23",
   "metadata": {
    "tags": []
   },
   "outputs": [
    {
     "data": {
      "text/plain": [
       "(2111, 9)"
      ]
     },
     "execution_count": 25,
     "metadata": {},
     "output_type": "execute_result"
    }
   ],
   "source": [
    "principalOb.shape"
   ]
  },
  {
   "cell_type": "markdown",
   "id": "8bfb4988-f288-4534-a33d-7983a58cd808",
   "metadata": {},
   "source": [
    "I create a new dataframe called finalOB using the principal components and concatenating the obesity column onto the end"
   ]
  },
  {
   "cell_type": "code",
   "execution_count": 40,
   "id": "4bc04981-940a-4271-8d0c-531c3bad105b",
   "metadata": {
    "tags": []
   },
   "outputs": [],
   "source": [
    "finalOb = pd.concat([principalOb, ob[['Obesity']]], axis=1)"
   ]
  },
  {
   "cell_type": "code",
   "execution_count": 27,
   "id": "109a92f1-b1e5-4537-99d6-1b05eccfab24",
   "metadata": {
    "tags": []
   },
   "outputs": [
    {
     "data": {
      "text/html": [
       "<div>\n",
       "<style scoped>\n",
       "    .dataframe tbody tr th:only-of-type {\n",
       "        vertical-align: middle;\n",
       "    }\n",
       "\n",
       "    .dataframe tbody tr th {\n",
       "        vertical-align: top;\n",
       "    }\n",
       "\n",
       "    .dataframe thead th {\n",
       "        text-align: right;\n",
       "    }\n",
       "</style>\n",
       "<table border=\"1\" class=\"dataframe\">\n",
       "  <thead>\n",
       "    <tr style=\"text-align: right;\">\n",
       "      <th></th>\n",
       "      <th>pc1</th>\n",
       "      <th>pc2</th>\n",
       "      <th>pc3</th>\n",
       "      <th>pc4</th>\n",
       "      <th>pc5</th>\n",
       "      <th>pc6</th>\n",
       "      <th>pc7</th>\n",
       "      <th>pc8</th>\n",
       "      <th>pc9</th>\n",
       "      <th>Obesity</th>\n",
       "    </tr>\n",
       "  </thead>\n",
       "  <tbody>\n",
       "    <tr>\n",
       "      <th>0</th>\n",
       "      <td>1.625618</td>\n",
       "      <td>-0.052671</td>\n",
       "      <td>0.022598</td>\n",
       "      <td>-0.849863</td>\n",
       "      <td>-1.751855</td>\n",
       "      <td>0.379976</td>\n",
       "      <td>-0.192195</td>\n",
       "      <td>-0.216208</td>\n",
       "      <td>-2.233655</td>\n",
       "      <td>1</td>\n",
       "    </tr>\n",
       "    <tr>\n",
       "      <th>1</th>\n",
       "      <td>2.275378</td>\n",
       "      <td>-1.093413</td>\n",
       "      <td>3.084155</td>\n",
       "      <td>4.356404</td>\n",
       "      <td>-1.103146</td>\n",
       "      <td>5.234845</td>\n",
       "      <td>3.919024</td>\n",
       "      <td>0.879715</td>\n",
       "      <td>-0.248579</td>\n",
       "      <td>1</td>\n",
       "    </tr>\n",
       "    <tr>\n",
       "      <th>2</th>\n",
       "      <td>-0.827578</td>\n",
       "      <td>-1.622884</td>\n",
       "      <td>1.154246</td>\n",
       "      <td>-0.237181</td>\n",
       "      <td>-0.925342</td>\n",
       "      <td>0.356082</td>\n",
       "      <td>-0.399949</td>\n",
       "      <td>-0.738155</td>\n",
       "      <td>-0.911315</td>\n",
       "      <td>1</td>\n",
       "    </tr>\n",
       "    <tr>\n",
       "      <th>3</th>\n",
       "      <td>-0.120763</td>\n",
       "      <td>-0.509067</td>\n",
       "      <td>2.650700</td>\n",
       "      <td>1.289046</td>\n",
       "      <td>-0.341985</td>\n",
       "      <td>-0.116386</td>\n",
       "      <td>-1.141974</td>\n",
       "      <td>-1.748218</td>\n",
       "      <td>0.245270</td>\n",
       "      <td>2</td>\n",
       "    </tr>\n",
       "    <tr>\n",
       "      <th>4</th>\n",
       "      <td>1.093932</td>\n",
       "      <td>-0.256477</td>\n",
       "      <td>1.391925</td>\n",
       "      <td>-0.777077</td>\n",
       "      <td>1.600446</td>\n",
       "      <td>-0.609013</td>\n",
       "      <td>0.416862</td>\n",
       "      <td>-1.141189</td>\n",
       "      <td>0.182193</td>\n",
       "      <td>3</td>\n",
       "    </tr>\n",
       "  </tbody>\n",
       "</table>\n",
       "</div>"
      ],
      "text/plain": [
       "        pc1       pc2       pc3       pc4       pc5       pc6       pc7  \\\n",
       "0  1.625618 -0.052671  0.022598 -0.849863 -1.751855  0.379976 -0.192195   \n",
       "1  2.275378 -1.093413  3.084155  4.356404 -1.103146  5.234845  3.919024   \n",
       "2 -0.827578 -1.622884  1.154246 -0.237181 -0.925342  0.356082 -0.399949   \n",
       "3 -0.120763 -0.509067  2.650700  1.289046 -0.341985 -0.116386 -1.141974   \n",
       "4  1.093932 -0.256477  1.391925 -0.777077  1.600446 -0.609013  0.416862   \n",
       "\n",
       "        pc8       pc9  Obesity  \n",
       "0 -0.216208 -2.233655        1  \n",
       "1  0.879715 -0.248579        1  \n",
       "2 -0.738155 -0.911315        1  \n",
       "3 -1.748218  0.245270        2  \n",
       "4 -1.141189  0.182193        3  "
      ]
     },
     "execution_count": 27,
     "metadata": {},
     "output_type": "execute_result"
    }
   ],
   "source": [
    "finalOb.head()"
   ]
  },
  {
   "cell_type": "code",
   "execution_count": 41,
   "id": "de0765db-2eec-42aa-aae1-6df12be40a77",
   "metadata": {
    "tags": []
   },
   "outputs": [
    {
     "data": {
      "text/plain": [
       "array([1, 2, 3, 4, 7, 5, 6])"
      ]
     },
     "execution_count": 41,
     "metadata": {},
     "output_type": "execute_result"
    }
   ],
   "source": [
    "finalOb['Obesity'].unique()"
   ]
  },
  {
   "cell_type": "markdown",
   "id": "84ff05cf-5d61-465d-9c9b-ae377f85e253",
   "metadata": {},
   "source": [
    "Next I import the models I will be using as well as the train_test_split and accuracy score modules."
   ]
  },
  {
   "cell_type": "code",
   "execution_count": 30,
   "id": "954b4294-7a19-4377-9254-3edd6f08569d",
   "metadata": {},
   "outputs": [],
   "source": [
    "from sklearn.model_selection import train_test_split\n",
    "from sklearn.tree import DecisionTreeClassifier\n",
    "from sklearn.ensemble import RandomForestClassifier\n",
    "from sklearn.ensemble import AdaBoostClassifier\n",
    "from sklearn.metrics import accuracy_score"
   ]
  },
  {
   "cell_type": "markdown",
   "id": "7b6bb463-61eb-4608-9ccb-ac277d4ec5d7",
   "metadata": {},
   "source": [
    "Below I create and fit the models"
   ]
  },
  {
   "cell_type": "code",
   "execution_count": 31,
   "id": "202cf819-db10-4470-9428-ca11d42fa7e8",
   "metadata": {
    "tags": []
   },
   "outputs": [],
   "source": [
    "clf = DecisionTreeClassifier(random_state=0)\n",
    "rfc = RandomForestClassifier(random_state=0)\n",
    "ada = AdaBoostClassifier(random_state=0)"
   ]
  },
  {
   "cell_type": "code",
   "execution_count": 32,
   "id": "1552b301-3f69-460b-ae45-0dc34b5cea95",
   "metadata": {
    "tags": []
   },
   "outputs": [],
   "source": [
    "X = finalOb[['pc1', 'pc2', 'pc3', 'pc4', 'pc5', 'pc6', 'pc7', 'pc8', 'pc9']]\n",
    "y = finalOb['Obesity']"
   ]
  },
  {
   "cell_type": "code",
   "execution_count": 33,
   "id": "00e4190e-a7e4-4377-b6e6-ecbef8bbd1fe",
   "metadata": {
    "tags": []
   },
   "outputs": [],
   "source": [
    "X_train, X_test, y_train, y_test = train_test_split(X,y, test_size=.3)"
   ]
  },
  {
   "cell_type": "code",
   "execution_count": 34,
   "id": "e37cc650-51ee-4ee5-8b07-9c312b4a99a3",
   "metadata": {
    "tags": []
   },
   "outputs": [
    {
     "data": {
      "text/html": [
       "<style>#sk-container-id-1 {color: black;}#sk-container-id-1 pre{padding: 0;}#sk-container-id-1 div.sk-toggleable {background-color: white;}#sk-container-id-1 label.sk-toggleable__label {cursor: pointer;display: block;width: 100%;margin-bottom: 0;padding: 0.3em;box-sizing: border-box;text-align: center;}#sk-container-id-1 label.sk-toggleable__label-arrow:before {content: \"▸\";float: left;margin-right: 0.25em;color: #696969;}#sk-container-id-1 label.sk-toggleable__label-arrow:hover:before {color: black;}#sk-container-id-1 div.sk-estimator:hover label.sk-toggleable__label-arrow:before {color: black;}#sk-container-id-1 div.sk-toggleable__content {max-height: 0;max-width: 0;overflow: hidden;text-align: left;background-color: #f0f8ff;}#sk-container-id-1 div.sk-toggleable__content pre {margin: 0.2em;color: black;border-radius: 0.25em;background-color: #f0f8ff;}#sk-container-id-1 input.sk-toggleable__control:checked~div.sk-toggleable__content {max-height: 200px;max-width: 100%;overflow: auto;}#sk-container-id-1 input.sk-toggleable__control:checked~label.sk-toggleable__label-arrow:before {content: \"▾\";}#sk-container-id-1 div.sk-estimator input.sk-toggleable__control:checked~label.sk-toggleable__label {background-color: #d4ebff;}#sk-container-id-1 div.sk-label input.sk-toggleable__control:checked~label.sk-toggleable__label {background-color: #d4ebff;}#sk-container-id-1 input.sk-hidden--visually {border: 0;clip: rect(1px 1px 1px 1px);clip: rect(1px, 1px, 1px, 1px);height: 1px;margin: -1px;overflow: hidden;padding: 0;position: absolute;width: 1px;}#sk-container-id-1 div.sk-estimator {font-family: monospace;background-color: #f0f8ff;border: 1px dotted black;border-radius: 0.25em;box-sizing: border-box;margin-bottom: 0.5em;}#sk-container-id-1 div.sk-estimator:hover {background-color: #d4ebff;}#sk-container-id-1 div.sk-parallel-item::after {content: \"\";width: 100%;border-bottom: 1px solid gray;flex-grow: 1;}#sk-container-id-1 div.sk-label:hover label.sk-toggleable__label {background-color: #d4ebff;}#sk-container-id-1 div.sk-serial::before {content: \"\";position: absolute;border-left: 1px solid gray;box-sizing: border-box;top: 0;bottom: 0;left: 50%;z-index: 0;}#sk-container-id-1 div.sk-serial {display: flex;flex-direction: column;align-items: center;background-color: white;padding-right: 0.2em;padding-left: 0.2em;position: relative;}#sk-container-id-1 div.sk-item {position: relative;z-index: 1;}#sk-container-id-1 div.sk-parallel {display: flex;align-items: stretch;justify-content: center;background-color: white;position: relative;}#sk-container-id-1 div.sk-item::before, #sk-container-id-1 div.sk-parallel-item::before {content: \"\";position: absolute;border-left: 1px solid gray;box-sizing: border-box;top: 0;bottom: 0;left: 50%;z-index: -1;}#sk-container-id-1 div.sk-parallel-item {display: flex;flex-direction: column;z-index: 1;position: relative;background-color: white;}#sk-container-id-1 div.sk-parallel-item:first-child::after {align-self: flex-end;width: 50%;}#sk-container-id-1 div.sk-parallel-item:last-child::after {align-self: flex-start;width: 50%;}#sk-container-id-1 div.sk-parallel-item:only-child::after {width: 0;}#sk-container-id-1 div.sk-dashed-wrapped {border: 1px dashed gray;margin: 0 0.4em 0.5em 0.4em;box-sizing: border-box;padding-bottom: 0.4em;background-color: white;}#sk-container-id-1 div.sk-label label {font-family: monospace;font-weight: bold;display: inline-block;line-height: 1.2em;}#sk-container-id-1 div.sk-label-container {text-align: center;}#sk-container-id-1 div.sk-container {/* jupyter's `normalize.less` sets `[hidden] { display: none; }` but bootstrap.min.css set `[hidden] { display: none !important; }` so we also need the `!important` here to be able to override the default hidden behavior on the sphinx rendered scikit-learn.org. See: https://github.com/scikit-learn/scikit-learn/issues/21755 */display: inline-block !important;position: relative;}#sk-container-id-1 div.sk-text-repr-fallback {display: none;}</style><div id=\"sk-container-id-1\" class=\"sk-top-container\"><div class=\"sk-text-repr-fallback\"><pre>DecisionTreeClassifier(random_state=0)</pre><b>In a Jupyter environment, please rerun this cell to show the HTML representation or trust the notebook. <br />On GitHub, the HTML representation is unable to render, please try loading this page with nbviewer.org.</b></div><div class=\"sk-container\" hidden><div class=\"sk-item\"><div class=\"sk-estimator sk-toggleable\"><input class=\"sk-toggleable__control sk-hidden--visually\" id=\"sk-estimator-id-1\" type=\"checkbox\" checked><label for=\"sk-estimator-id-1\" class=\"sk-toggleable__label sk-toggleable__label-arrow\">DecisionTreeClassifier</label><div class=\"sk-toggleable__content\"><pre>DecisionTreeClassifier(random_state=0)</pre></div></div></div></div></div>"
      ],
      "text/plain": [
       "DecisionTreeClassifier(random_state=0)"
      ]
     },
     "execution_count": 34,
     "metadata": {},
     "output_type": "execute_result"
    }
   ],
   "source": [
    "clf.fit(X_train, y_train.values.ravel())"
   ]
  },
  {
   "cell_type": "code",
   "execution_count": 35,
   "id": "7c1e02e4-3388-4db3-9bea-46dfa7b4a75c",
   "metadata": {
    "tags": []
   },
   "outputs": [
    {
     "data": {
      "text/html": [
       "<style>#sk-container-id-2 {color: black;}#sk-container-id-2 pre{padding: 0;}#sk-container-id-2 div.sk-toggleable {background-color: white;}#sk-container-id-2 label.sk-toggleable__label {cursor: pointer;display: block;width: 100%;margin-bottom: 0;padding: 0.3em;box-sizing: border-box;text-align: center;}#sk-container-id-2 label.sk-toggleable__label-arrow:before {content: \"▸\";float: left;margin-right: 0.25em;color: #696969;}#sk-container-id-2 label.sk-toggleable__label-arrow:hover:before {color: black;}#sk-container-id-2 div.sk-estimator:hover label.sk-toggleable__label-arrow:before {color: black;}#sk-container-id-2 div.sk-toggleable__content {max-height: 0;max-width: 0;overflow: hidden;text-align: left;background-color: #f0f8ff;}#sk-container-id-2 div.sk-toggleable__content pre {margin: 0.2em;color: black;border-radius: 0.25em;background-color: #f0f8ff;}#sk-container-id-2 input.sk-toggleable__control:checked~div.sk-toggleable__content {max-height: 200px;max-width: 100%;overflow: auto;}#sk-container-id-2 input.sk-toggleable__control:checked~label.sk-toggleable__label-arrow:before {content: \"▾\";}#sk-container-id-2 div.sk-estimator input.sk-toggleable__control:checked~label.sk-toggleable__label {background-color: #d4ebff;}#sk-container-id-2 div.sk-label input.sk-toggleable__control:checked~label.sk-toggleable__label {background-color: #d4ebff;}#sk-container-id-2 input.sk-hidden--visually {border: 0;clip: rect(1px 1px 1px 1px);clip: rect(1px, 1px, 1px, 1px);height: 1px;margin: -1px;overflow: hidden;padding: 0;position: absolute;width: 1px;}#sk-container-id-2 div.sk-estimator {font-family: monospace;background-color: #f0f8ff;border: 1px dotted black;border-radius: 0.25em;box-sizing: border-box;margin-bottom: 0.5em;}#sk-container-id-2 div.sk-estimator:hover {background-color: #d4ebff;}#sk-container-id-2 div.sk-parallel-item::after {content: \"\";width: 100%;border-bottom: 1px solid gray;flex-grow: 1;}#sk-container-id-2 div.sk-label:hover label.sk-toggleable__label {background-color: #d4ebff;}#sk-container-id-2 div.sk-serial::before {content: \"\";position: absolute;border-left: 1px solid gray;box-sizing: border-box;top: 0;bottom: 0;left: 50%;z-index: 0;}#sk-container-id-2 div.sk-serial {display: flex;flex-direction: column;align-items: center;background-color: white;padding-right: 0.2em;padding-left: 0.2em;position: relative;}#sk-container-id-2 div.sk-item {position: relative;z-index: 1;}#sk-container-id-2 div.sk-parallel {display: flex;align-items: stretch;justify-content: center;background-color: white;position: relative;}#sk-container-id-2 div.sk-item::before, #sk-container-id-2 div.sk-parallel-item::before {content: \"\";position: absolute;border-left: 1px solid gray;box-sizing: border-box;top: 0;bottom: 0;left: 50%;z-index: -1;}#sk-container-id-2 div.sk-parallel-item {display: flex;flex-direction: column;z-index: 1;position: relative;background-color: white;}#sk-container-id-2 div.sk-parallel-item:first-child::after {align-self: flex-end;width: 50%;}#sk-container-id-2 div.sk-parallel-item:last-child::after {align-self: flex-start;width: 50%;}#sk-container-id-2 div.sk-parallel-item:only-child::after {width: 0;}#sk-container-id-2 div.sk-dashed-wrapped {border: 1px dashed gray;margin: 0 0.4em 0.5em 0.4em;box-sizing: border-box;padding-bottom: 0.4em;background-color: white;}#sk-container-id-2 div.sk-label label {font-family: monospace;font-weight: bold;display: inline-block;line-height: 1.2em;}#sk-container-id-2 div.sk-label-container {text-align: center;}#sk-container-id-2 div.sk-container {/* jupyter's `normalize.less` sets `[hidden] { display: none; }` but bootstrap.min.css set `[hidden] { display: none !important; }` so we also need the `!important` here to be able to override the default hidden behavior on the sphinx rendered scikit-learn.org. See: https://github.com/scikit-learn/scikit-learn/issues/21755 */display: inline-block !important;position: relative;}#sk-container-id-2 div.sk-text-repr-fallback {display: none;}</style><div id=\"sk-container-id-2\" class=\"sk-top-container\"><div class=\"sk-text-repr-fallback\"><pre>RandomForestClassifier(random_state=0)</pre><b>In a Jupyter environment, please rerun this cell to show the HTML representation or trust the notebook. <br />On GitHub, the HTML representation is unable to render, please try loading this page with nbviewer.org.</b></div><div class=\"sk-container\" hidden><div class=\"sk-item\"><div class=\"sk-estimator sk-toggleable\"><input class=\"sk-toggleable__control sk-hidden--visually\" id=\"sk-estimator-id-2\" type=\"checkbox\" checked><label for=\"sk-estimator-id-2\" class=\"sk-toggleable__label sk-toggleable__label-arrow\">RandomForestClassifier</label><div class=\"sk-toggleable__content\"><pre>RandomForestClassifier(random_state=0)</pre></div></div></div></div></div>"
      ],
      "text/plain": [
       "RandomForestClassifier(random_state=0)"
      ]
     },
     "execution_count": 35,
     "metadata": {},
     "output_type": "execute_result"
    }
   ],
   "source": [
    "rfc.fit(X_train, y_train.values.ravel())"
   ]
  },
  {
   "cell_type": "code",
   "execution_count": 36,
   "id": "e5ed7253-af1c-469b-945c-983603be8f8f",
   "metadata": {
    "tags": []
   },
   "outputs": [
    {
     "data": {
      "text/html": [
       "<style>#sk-container-id-3 {color: black;}#sk-container-id-3 pre{padding: 0;}#sk-container-id-3 div.sk-toggleable {background-color: white;}#sk-container-id-3 label.sk-toggleable__label {cursor: pointer;display: block;width: 100%;margin-bottom: 0;padding: 0.3em;box-sizing: border-box;text-align: center;}#sk-container-id-3 label.sk-toggleable__label-arrow:before {content: \"▸\";float: left;margin-right: 0.25em;color: #696969;}#sk-container-id-3 label.sk-toggleable__label-arrow:hover:before {color: black;}#sk-container-id-3 div.sk-estimator:hover label.sk-toggleable__label-arrow:before {color: black;}#sk-container-id-3 div.sk-toggleable__content {max-height: 0;max-width: 0;overflow: hidden;text-align: left;background-color: #f0f8ff;}#sk-container-id-3 div.sk-toggleable__content pre {margin: 0.2em;color: black;border-radius: 0.25em;background-color: #f0f8ff;}#sk-container-id-3 input.sk-toggleable__control:checked~div.sk-toggleable__content {max-height: 200px;max-width: 100%;overflow: auto;}#sk-container-id-3 input.sk-toggleable__control:checked~label.sk-toggleable__label-arrow:before {content: \"▾\";}#sk-container-id-3 div.sk-estimator input.sk-toggleable__control:checked~label.sk-toggleable__label {background-color: #d4ebff;}#sk-container-id-3 div.sk-label input.sk-toggleable__control:checked~label.sk-toggleable__label {background-color: #d4ebff;}#sk-container-id-3 input.sk-hidden--visually {border: 0;clip: rect(1px 1px 1px 1px);clip: rect(1px, 1px, 1px, 1px);height: 1px;margin: -1px;overflow: hidden;padding: 0;position: absolute;width: 1px;}#sk-container-id-3 div.sk-estimator {font-family: monospace;background-color: #f0f8ff;border: 1px dotted black;border-radius: 0.25em;box-sizing: border-box;margin-bottom: 0.5em;}#sk-container-id-3 div.sk-estimator:hover {background-color: #d4ebff;}#sk-container-id-3 div.sk-parallel-item::after {content: \"\";width: 100%;border-bottom: 1px solid gray;flex-grow: 1;}#sk-container-id-3 div.sk-label:hover label.sk-toggleable__label {background-color: #d4ebff;}#sk-container-id-3 div.sk-serial::before {content: \"\";position: absolute;border-left: 1px solid gray;box-sizing: border-box;top: 0;bottom: 0;left: 50%;z-index: 0;}#sk-container-id-3 div.sk-serial {display: flex;flex-direction: column;align-items: center;background-color: white;padding-right: 0.2em;padding-left: 0.2em;position: relative;}#sk-container-id-3 div.sk-item {position: relative;z-index: 1;}#sk-container-id-3 div.sk-parallel {display: flex;align-items: stretch;justify-content: center;background-color: white;position: relative;}#sk-container-id-3 div.sk-item::before, #sk-container-id-3 div.sk-parallel-item::before {content: \"\";position: absolute;border-left: 1px solid gray;box-sizing: border-box;top: 0;bottom: 0;left: 50%;z-index: -1;}#sk-container-id-3 div.sk-parallel-item {display: flex;flex-direction: column;z-index: 1;position: relative;background-color: white;}#sk-container-id-3 div.sk-parallel-item:first-child::after {align-self: flex-end;width: 50%;}#sk-container-id-3 div.sk-parallel-item:last-child::after {align-self: flex-start;width: 50%;}#sk-container-id-3 div.sk-parallel-item:only-child::after {width: 0;}#sk-container-id-3 div.sk-dashed-wrapped {border: 1px dashed gray;margin: 0 0.4em 0.5em 0.4em;box-sizing: border-box;padding-bottom: 0.4em;background-color: white;}#sk-container-id-3 div.sk-label label {font-family: monospace;font-weight: bold;display: inline-block;line-height: 1.2em;}#sk-container-id-3 div.sk-label-container {text-align: center;}#sk-container-id-3 div.sk-container {/* jupyter's `normalize.less` sets `[hidden] { display: none; }` but bootstrap.min.css set `[hidden] { display: none !important; }` so we also need the `!important` here to be able to override the default hidden behavior on the sphinx rendered scikit-learn.org. See: https://github.com/scikit-learn/scikit-learn/issues/21755 */display: inline-block !important;position: relative;}#sk-container-id-3 div.sk-text-repr-fallback {display: none;}</style><div id=\"sk-container-id-3\" class=\"sk-top-container\"><div class=\"sk-text-repr-fallback\"><pre>AdaBoostClassifier(random_state=0)</pre><b>In a Jupyter environment, please rerun this cell to show the HTML representation or trust the notebook. <br />On GitHub, the HTML representation is unable to render, please try loading this page with nbviewer.org.</b></div><div class=\"sk-container\" hidden><div class=\"sk-item\"><div class=\"sk-estimator sk-toggleable\"><input class=\"sk-toggleable__control sk-hidden--visually\" id=\"sk-estimator-id-3\" type=\"checkbox\" checked><label for=\"sk-estimator-id-3\" class=\"sk-toggleable__label sk-toggleable__label-arrow\">AdaBoostClassifier</label><div class=\"sk-toggleable__content\"><pre>AdaBoostClassifier(random_state=0)</pre></div></div></div></div></div>"
      ],
      "text/plain": [
       "AdaBoostClassifier(random_state=0)"
      ]
     },
     "execution_count": 36,
     "metadata": {},
     "output_type": "execute_result"
    }
   ],
   "source": [
    "ada.fit(X_train, y_train.values.ravel())"
   ]
  },
  {
   "cell_type": "markdown",
   "id": "669beb2c-204c-47f3-ac52-a47b5319e41d",
   "metadata": {},
   "source": [
    "Below I add the predictive models to a list and then use a for-loop to iteratively run each model and display the accuracy score for each."
   ]
  },
  {
   "cell_type": "code",
   "execution_count": 38,
   "id": "d362a520-ef08-47a6-b267-2da7b339abcf",
   "metadata": {
    "tags": []
   },
   "outputs": [],
   "source": [
    "models = [clf, rfc, ada]"
   ]
  },
  {
   "cell_type": "code",
   "execution_count": 39,
   "id": "f6639b8b-cd1b-4004-a0df-964bbadd962a",
   "metadata": {
    "tags": []
   },
   "outputs": [
    {
     "name": "stdout",
     "output_type": "stream",
     "text": [
      "DecisionTreeClassifier(random_state=0) score: 0.6656151419558359\n",
      "RandomForestClassifier(random_state=0) score: 0.7665615141955836\n",
      "AdaBoostClassifier(random_state=0) score: 0.38801261829652994\n"
     ]
    }
   ],
   "source": [
    "for model in models:\n",
    "    model.fit(X_train, y_train.values.ravel())\n",
    "    predictions = model.predict(X_test)\n",
    "    accuracy_scores = accuracy_score(y_test, predictions)\n",
    "    print(f\"{model} score: {accuracy_scores}\")"
   ]
  },
  {
   "cell_type": "code",
   "execution_count": null,
   "id": "e39617a4-1500-4f7f-89c6-881d95c17ac7",
   "metadata": {},
   "outputs": [],
   "source": []
  }
 ],
 "metadata": {
  "kernelspec": {
   "display_name": "Python 3 (ipykernel)",
   "language": "python",
   "name": "python3"
  },
  "language_info": {
   "codemirror_mode": {
    "name": "ipython",
    "version": 3
   },
   "file_extension": ".py",
   "mimetype": "text/x-python",
   "name": "python",
   "nbconvert_exporter": "python",
   "pygments_lexer": "ipython3",
   "version": "3.11.5"
  }
 },
 "nbformat": 4,
 "nbformat_minor": 5
}
